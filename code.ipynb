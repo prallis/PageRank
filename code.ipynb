{
 "cells": [
  {
   "cell_type": "markdown",
   "metadata": {},
   "source": [
    "# Numerical optimization and large scale linear algebra"
   ]
  },
  {
   "cell_type": "markdown",
   "metadata": {},
   "source": [
    "### Rallis Panagiotis p3351816"
   ]
  },
  {
   "cell_type": "markdown",
   "metadata": {},
   "source": [
    "### Exercise 3 part 1"
   ]
  },
  {
   "cell_type": "code",
   "execution_count": 1,
   "metadata": {},
   "outputs": [],
   "source": [
    "import numpy as np\n",
    "from numpy import loadtxt\n",
    "import scipy.sparse\n",
    "from scipy.sparse import csr_matrix\n",
    "import time"
   ]
  },
  {
   "cell_type": "code",
   "execution_count": 2,
   "metadata": {},
   "outputs": [],
   "source": [
    "#load data and create sparse matrix A\n",
    "data = np.loadtxt('stanweb.dat')\n",
    "n = data[len(data)-1,0].astype(int)\n",
    "row = data[:,0].astype(int)-1\n",
    "column = data[:,1].astype(int)-1\n",
    "propabilities = data[:,2]\n",
    "A = csr_matrix((propabilities, (row, column)), shape=(n, n))"
   ]
  },
  {
   "cell_type": "markdown",
   "metadata": {},
   "source": [
    "### a.i) The Power Method "
   ]
  },
  {
   "cell_type": "markdown",
   "metadata": {},
   "source": [
    "#### Υλοποιηση του αλγόριθμου power method χρησιμοποιώντας την παράσταση (1) σελίδα 7 paper Deeper Inside PageRank"
   ]
  },
  {
   "cell_type": "code",
   "execution_count": 3,
   "metadata": {},
   "outputs": [],
   "source": [
    "def power_method(A , a = 0.85 , r = 10**-8, max_iter = 200):\n",
    "    (n,d)=A.shape \n",
    "    zero_rows = A.sum(axis=1)==0\n",
    "    index = np.argwhere(zero_rows)\n",
    "    a_v = np.zeros(n)\n",
    "    a_v[index[:,0]] = 1\n",
    "    a_v = a_v.reshape(n,1)  \n",
    "    \n",
    "    vT = np.ones(d) / n            #initialiaze v\n",
    "    \n",
    "    x = np.ones(d) /  n \n",
    "    \n",
    "#     iterations = np.log10(r)/np.log10(a)   # pagerank pdf page 8-9 Rate of Convergence\n",
    "    \n",
    "#     for i in range(0,int(round(iterations))):\n",
    "    for i in range(max_iter):  \n",
    "        \n",
    "        x_new = a * x * A + (a * x * a_v.T + (1 - a)) * vT\n",
    "        \n",
    "        error = np.linalg.norm(x-x_new)\n",
    "        x = x_new\n",
    "        iters = i\n",
    "        if error < r:\n",
    "            x_new = x_new.reshape(n,1) \n",
    "            return x_new, iters\n",
    "        \n",
    "    x_new = x_new.reshape(n,1)       \n",
    "    return x_new, iters"
   ]
  },
  {
   "cell_type": "code",
   "execution_count": 4,
   "metadata": {},
   "outputs": [],
   "source": [
    "start1 = time.time()\n",
    "x_power, power_iter = power_method(A , 0.85, 10**-8)\n",
    "end1 = time.time()\n",
    "runtime_power = end1-start1"
   ]
  },
  {
   "cell_type": "markdown",
   "metadata": {},
   "source": [
    "Χρόνος εκτέλεσης"
   ]
  },
  {
   "cell_type": "code",
   "execution_count": 5,
   "metadata": {},
   "outputs": [
    {
     "data": {
      "text/plain": [
       "1.4373152256011963"
      ]
     },
     "execution_count": 5,
     "metadata": {},
     "output_type": "execute_result"
    }
   ],
   "source": [
    "runtime_power"
   ]
  },
  {
   "cell_type": "markdown",
   "metadata": {},
   "source": [
    "Πλήθος επαναλήψεων"
   ]
  },
  {
   "cell_type": "code",
   "execution_count": 6,
   "metadata": {},
   "outputs": [
    {
     "data": {
      "text/plain": [
       "71"
      ]
     },
     "execution_count": 6,
     "metadata": {},
     "output_type": "execute_result"
    }
   ],
   "source": [
    "power_iter"
   ]
  },
  {
   "cell_type": "code",
   "execution_count": 7,
   "metadata": {},
   "outputs": [
    {
     "data": {
      "text/plain": [
       "array([[5.32097920e-07],\n",
       "       [1.16899486e-04],\n",
       "       [8.25192068e-07],\n",
       "       ...,\n",
       "       [5.35745366e-07],\n",
       "       [1.80443667e-06],\n",
       "       [1.47571468e-06]])"
      ]
     },
     "execution_count": 7,
     "metadata": {},
     "output_type": "execute_result"
    }
   ],
   "source": [
    "x_power"
   ]
  },
  {
   "cell_type": "markdown",
   "metadata": {},
   "source": [
    "### a.ii) Solving the corresponding system with Gauss Seidel"
   ]
  },
  {
   "cell_type": "code",
   "execution_count": 8,
   "metadata": {},
   "outputs": [],
   "source": [
    "from scipy import sparse\n",
    "from scipy.sparse import linalg\n",
    "from scipy.sparse.linalg import spsolve\n",
    "from scipy.sparse.linalg import inv\n",
    "from scipy.linalg import tril\n",
    "from scipy.sparse import csr_matrix, tril,triu\n",
    "import time\n",
    "from scipy.sparse.linalg import factorized,spsolve_triangular"
   ]
  },
  {
   "cell_type": "markdown",
   "metadata": {},
   "source": [
    "#### Υλοποίηση τη μεθόδου Gauss Seidel χρησιμοποιόντας την class SuperLU scipy https://docs.scipy.org/doc/scipy-0.14.0/reference/generated/scipy.sparse.linalg.SuperLU.html"
   ]
  },
  {
   "cell_type": "code",
   "execution_count": 9,
   "metadata": {},
   "outputs": [],
   "source": [
    "#https://docs.scipy.org/doc/scipy-0.14.0/reference/generated/scipy.sparse.linalg.SuperLU.html\n",
    "from scipy.sparse import csc_matrix, linalg as sla\n",
    "def gauss_seidel(A, a = 0.85 , r = 10**-8, max_iter = 200):\n",
    "    (n,m) = A.shape\n",
    "    I = sparse.identity(n)\n",
    "    \n",
    "    A_temp = (I - a * A).T\n",
    "\n",
    "    L = tril(A_temp, 0)\n",
    "    U = triu(A_temp, 1)\n",
    "    \n",
    "    lu = sla.splu(L) \n",
    "    \n",
    "    b =  np.ones(m) / n \n",
    "    x =  np.ones(m) /  n\n",
    "    \n",
    "#   iterations = np.log10(r)/np.log10(a)    \n",
    "#   for i in range(0,int(round(iterations))): \n",
    "\n",
    "    for i in range(max_iter): \n",
    "\n",
    "        x_new = lu.solve(b - U*x)\n",
    "\n",
    "        error = np.linalg.norm(x-x_new)\n",
    "        \n",
    "        x = x_new    \n",
    "        iters = i\n",
    "        if error < r:\n",
    "            x_new = x_new.reshape(n,1) \n",
    "            return x_new / np.sum(x_new), iters\n",
    "        \n",
    "    return x_new/np.sum(x_new), iters\n"
   ]
  },
  {
   "cell_type": "code",
   "execution_count": 10,
   "metadata": {},
   "outputs": [
    {
     "name": "stderr",
     "output_type": "stream",
     "text": [
      "C:\\Users\\ralli\\Anaconda3\\envs\\practical-data-science\\lib\\site-packages\\scipy\\sparse\\linalg\\dsolve\\linsolve.py:295: SparseEfficiencyWarning: splu requires CSC matrix format\n",
      "  warn('splu requires CSC matrix format', SparseEfficiencyWarning)\n"
     ]
    }
   ],
   "source": [
    "start1 = time.time()\n",
    "x_gauss, gauss_iter =gauss_seidel(A , 0.85, 10**-8)\n",
    "end1 = time.time()\n",
    "runtime_gauss = end1 - start1"
   ]
  },
  {
   "cell_type": "code",
   "execution_count": 11,
   "metadata": {},
   "outputs": [
    {
     "data": {
      "text/plain": [
       "2.6500866413116455"
      ]
     },
     "execution_count": 11,
     "metadata": {},
     "output_type": "execute_result"
    }
   ],
   "source": [
    "runtime_gauss"
   ]
  },
  {
   "cell_type": "code",
   "execution_count": 12,
   "metadata": {},
   "outputs": [
    {
     "data": {
      "text/plain": [
       "49"
      ]
     },
     "execution_count": 12,
     "metadata": {},
     "output_type": "execute_result"
    }
   ],
   "source": [
    "gauss_iter"
   ]
  },
  {
   "cell_type": "code",
   "execution_count": 13,
   "metadata": {},
   "outputs": [
    {
     "data": {
      "text/plain": [
       "1.4373152256011963"
      ]
     },
     "execution_count": 13,
     "metadata": {},
     "output_type": "execute_result"
    }
   ],
   "source": [
    "runtime_power"
   ]
  },
  {
   "cell_type": "code",
   "execution_count": 14,
   "metadata": {},
   "outputs": [
    {
     "data": {
      "text/plain": [
       "71"
      ]
     },
     "execution_count": 14,
     "metadata": {},
     "output_type": "execute_result"
    }
   ],
   "source": [
    "power_iter"
   ]
  },
  {
   "cell_type": "markdown",
   "metadata": {},
   "source": [
    "#### Παρατηρούμε ότι ενώ ο χρόνος εκτέλεσης της Gauss Seidel είναι σχεδόν διπλάσιος από την Power Method, η μέθοδος Gauss Seidel χρειάζεται λιγότερες επαναλήψεις από την Power Method.\n",
    "\n",
    "##### Generally speaking, we expect the solution of these subproblems to take fewer iterations individually than is required for the huge matrix 2, leading to less total arithmetic. The other payoff, perhaps the payoff, is in reduced I/O\n",
    "#### [7] Arvind Arasu, Jasmine Novak, Andrew Tomkins, and John Tomlin. PageRank computation and the structure of the Web: experiments and algorithms. In The Eleventh International WWW Conference, New York, May 2002. ACM Press. http://citeseerx.ist.psu.edu/viewdoc/download;jsessionid=8A501558ABCD222947A10486EF0D08A9?doi=10.1.1.387.7294&rep=rep1&type=pdf"
   ]
  },
  {
   "cell_type": "code",
   "execution_count": 15,
   "metadata": {},
   "outputs": [
    {
     "data": {
      "text/html": [
       "<div>\n",
       "<style scoped>\n",
       "    .dataframe tbody tr th:only-of-type {\n",
       "        vertical-align: middle;\n",
       "    }\n",
       "\n",
       "    .dataframe tbody tr th {\n",
       "        vertical-align: top;\n",
       "    }\n",
       "\n",
       "    .dataframe thead th {\n",
       "        text-align: right;\n",
       "    }\n",
       "</style>\n",
       "<table border=\"1\" class=\"dataframe\">\n",
       "  <thead>\n",
       "    <tr style=\"text-align: right;\">\n",
       "      <th></th>\n",
       "      <th>Power Method Prob</th>\n",
       "      <th>Gauss Seidel Prob</th>\n",
       "    </tr>\n",
       "  </thead>\n",
       "  <tbody>\n",
       "    <tr>\n",
       "      <th>89072</th>\n",
       "      <td>1.127596e-02</td>\n",
       "      <td>1.130284e-02</td>\n",
       "    </tr>\n",
       "    <tr>\n",
       "      <th>226410</th>\n",
       "      <td>9.265573e-03</td>\n",
       "      <td>9.287656e-03</td>\n",
       "    </tr>\n",
       "    <tr>\n",
       "      <th>241453</th>\n",
       "      <td>8.277506e-03</td>\n",
       "      <td>8.297236e-03</td>\n",
       "    </tr>\n",
       "    <tr>\n",
       "      <th>262859</th>\n",
       "      <td>3.015929e-03</td>\n",
       "      <td>3.023117e-03</td>\n",
       "    </tr>\n",
       "    <tr>\n",
       "      <th>134831</th>\n",
       "      <td>2.994130e-03</td>\n",
       "      <td>3.001267e-03</td>\n",
       "    </tr>\n",
       "    <tr>\n",
       "      <th>234703</th>\n",
       "      <td>2.566140e-03</td>\n",
       "      <td>2.572256e-03</td>\n",
       "    </tr>\n",
       "    <tr>\n",
       "      <th>136820</th>\n",
       "      <td>2.447868e-03</td>\n",
       "      <td>2.453703e-03</td>\n",
       "    </tr>\n",
       "    <tr>\n",
       "      <th>68888</th>\n",
       "      <td>2.425000e-03</td>\n",
       "      <td>2.430780e-03</td>\n",
       "    </tr>\n",
       "    <tr>\n",
       "      <th>105606</th>\n",
       "      <td>2.391727e-03</td>\n",
       "      <td>2.397428e-03</td>\n",
       "    </tr>\n",
       "    <tr>\n",
       "      <th>69357</th>\n",
       "      <td>2.358382e-03</td>\n",
       "      <td>2.364004e-03</td>\n",
       "    </tr>\n",
       "    <tr>\n",
       "      <th>67755</th>\n",
       "      <td>2.295519e-03</td>\n",
       "      <td>2.300991e-03</td>\n",
       "    </tr>\n",
       "    <tr>\n",
       "      <th>225871</th>\n",
       "      <td>2.262013e-03</td>\n",
       "      <td>2.267404e-03</td>\n",
       "    </tr>\n",
       "    <tr>\n",
       "      <th>186749</th>\n",
       "      <td>2.227123e-03</td>\n",
       "      <td>2.232432e-03</td>\n",
       "    </tr>\n",
       "    <tr>\n",
       "      <th>251795</th>\n",
       "      <td>2.141434e-03</td>\n",
       "      <td>2.146538e-03</td>\n",
       "    </tr>\n",
       "    <tr>\n",
       "      <th>95162</th>\n",
       "      <td>2.141434e-03</td>\n",
       "      <td>2.146538e-03</td>\n",
       "    </tr>\n",
       "    <tr>\n",
       "      <th>272441</th>\n",
       "      <td>2.141434e-03</td>\n",
       "      <td>2.146538e-03</td>\n",
       "    </tr>\n",
       "    <tr>\n",
       "      <th>119478</th>\n",
       "      <td>2.031398e-03</td>\n",
       "      <td>2.036239e-03</td>\n",
       "    </tr>\n",
       "    <tr>\n",
       "      <th>231362</th>\n",
       "      <td>2.002917e-03</td>\n",
       "      <td>2.007691e-03</td>\n",
       "    </tr>\n",
       "    <tr>\n",
       "      <th>55787</th>\n",
       "      <td>1.952384e-03</td>\n",
       "      <td>1.957037e-03</td>\n",
       "    </tr>\n",
       "    <tr>\n",
       "      <th>167294</th>\n",
       "      <td>1.911934e-03</td>\n",
       "      <td>1.916491e-03</td>\n",
       "    </tr>\n",
       "    <tr>\n",
       "      <th>179644</th>\n",
       "      <td>1.806128e-03</td>\n",
       "      <td>1.810432e-03</td>\n",
       "    </tr>\n",
       "    <tr>\n",
       "      <th>38341</th>\n",
       "      <td>1.734527e-03</td>\n",
       "      <td>1.738661e-03</td>\n",
       "    </tr>\n",
       "    <tr>\n",
       "      <th>117151</th>\n",
       "      <td>1.400270e-03</td>\n",
       "      <td>1.403607e-03</td>\n",
       "    </tr>\n",
       "    <tr>\n",
       "      <th>198089</th>\n",
       "      <td>1.347167e-03</td>\n",
       "      <td>1.350378e-03</td>\n",
       "    </tr>\n",
       "    <tr>\n",
       "      <th>60209</th>\n",
       "      <td>1.306306e-03</td>\n",
       "      <td>1.309419e-03</td>\n",
       "    </tr>\n",
       "    <tr>\n",
       "      <th>235495</th>\n",
       "      <td>1.293603e-03</td>\n",
       "      <td>1.296686e-03</td>\n",
       "    </tr>\n",
       "    <tr>\n",
       "      <th>132694</th>\n",
       "      <td>1.281959e-03</td>\n",
       "      <td>1.285014e-03</td>\n",
       "    </tr>\n",
       "    <tr>\n",
       "      <th>181700</th>\n",
       "      <td>1.239007e-03</td>\n",
       "      <td>1.241960e-03</td>\n",
       "    </tr>\n",
       "    <tr>\n",
       "      <th>247240</th>\n",
       "      <td>1.212518e-03</td>\n",
       "      <td>1.215408e-03</td>\n",
       "    </tr>\n",
       "    <tr>\n",
       "      <th>259454</th>\n",
       "      <td>1.212518e-03</td>\n",
       "      <td>1.215408e-03</td>\n",
       "    </tr>\n",
       "    <tr>\n",
       "      <th>...</th>\n",
       "      <td>...</td>\n",
       "      <td>...</td>\n",
       "    </tr>\n",
       "    <tr>\n",
       "      <th>249389</th>\n",
       "      <td>5.320979e-07</td>\n",
       "      <td>5.333662e-07</td>\n",
       "    </tr>\n",
       "    <tr>\n",
       "      <th>126722</th>\n",
       "      <td>5.320979e-07</td>\n",
       "      <td>5.333662e-07</td>\n",
       "    </tr>\n",
       "    <tr>\n",
       "      <th>21033</th>\n",
       "      <td>5.320979e-07</td>\n",
       "      <td>5.333662e-07</td>\n",
       "    </tr>\n",
       "    <tr>\n",
       "      <th>126726</th>\n",
       "      <td>5.320979e-07</td>\n",
       "      <td>5.333662e-07</td>\n",
       "    </tr>\n",
       "    <tr>\n",
       "      <th>249468</th>\n",
       "      <td>5.320979e-07</td>\n",
       "      <td>5.333662e-07</td>\n",
       "    </tr>\n",
       "    <tr>\n",
       "      <th>101005</th>\n",
       "      <td>5.320979e-07</td>\n",
       "      <td>5.333662e-07</td>\n",
       "    </tr>\n",
       "    <tr>\n",
       "      <th>190106</th>\n",
       "      <td>5.320979e-07</td>\n",
       "      <td>5.333662e-07</td>\n",
       "    </tr>\n",
       "    <tr>\n",
       "      <th>249453</th>\n",
       "      <td>5.320979e-07</td>\n",
       "      <td>5.333662e-07</td>\n",
       "    </tr>\n",
       "    <tr>\n",
       "      <th>21025</th>\n",
       "      <td>5.320979e-07</td>\n",
       "      <td>5.333662e-07</td>\n",
       "    </tr>\n",
       "    <tr>\n",
       "      <th>82644</th>\n",
       "      <td>5.320979e-07</td>\n",
       "      <td>5.333662e-07</td>\n",
       "    </tr>\n",
       "    <tr>\n",
       "      <th>249446</th>\n",
       "      <td>5.320979e-07</td>\n",
       "      <td>5.333662e-07</td>\n",
       "    </tr>\n",
       "    <tr>\n",
       "      <th>190124</th>\n",
       "      <td>5.320979e-07</td>\n",
       "      <td>5.333662e-07</td>\n",
       "    </tr>\n",
       "    <tr>\n",
       "      <th>154868</th>\n",
       "      <td>5.320979e-07</td>\n",
       "      <td>5.333662e-07</td>\n",
       "    </tr>\n",
       "    <tr>\n",
       "      <th>126753</th>\n",
       "      <td>5.320979e-07</td>\n",
       "      <td>5.333662e-07</td>\n",
       "    </tr>\n",
       "    <tr>\n",
       "      <th>249432</th>\n",
       "      <td>5.320979e-07</td>\n",
       "      <td>5.333662e-07</td>\n",
       "    </tr>\n",
       "    <tr>\n",
       "      <th>190130</th>\n",
       "      <td>5.320979e-07</td>\n",
       "      <td>5.333662e-07</td>\n",
       "    </tr>\n",
       "    <tr>\n",
       "      <th>21055</th>\n",
       "      <td>5.320979e-07</td>\n",
       "      <td>5.333662e-07</td>\n",
       "    </tr>\n",
       "    <tr>\n",
       "      <th>82651</th>\n",
       "      <td>5.320979e-07</td>\n",
       "      <td>5.333662e-07</td>\n",
       "    </tr>\n",
       "    <tr>\n",
       "      <th>100982</th>\n",
       "      <td>5.320979e-07</td>\n",
       "      <td>5.333662e-07</td>\n",
       "    </tr>\n",
       "    <tr>\n",
       "      <th>249418</th>\n",
       "      <td>5.320979e-07</td>\n",
       "      <td>5.333662e-07</td>\n",
       "    </tr>\n",
       "    <tr>\n",
       "      <th>59630</th>\n",
       "      <td>5.320979e-07</td>\n",
       "      <td>5.333662e-07</td>\n",
       "    </tr>\n",
       "    <tr>\n",
       "      <th>126764</th>\n",
       "      <td>5.320979e-07</td>\n",
       "      <td>5.333662e-07</td>\n",
       "    </tr>\n",
       "    <tr>\n",
       "      <th>154860</th>\n",
       "      <td>5.320979e-07</td>\n",
       "      <td>5.333662e-07</td>\n",
       "    </tr>\n",
       "    <tr>\n",
       "      <th>154858</th>\n",
       "      <td>5.320979e-07</td>\n",
       "      <td>5.333662e-07</td>\n",
       "    </tr>\n",
       "    <tr>\n",
       "      <th>21048</th>\n",
       "      <td>5.320979e-07</td>\n",
       "      <td>5.333662e-07</td>\n",
       "    </tr>\n",
       "    <tr>\n",
       "      <th>126767</th>\n",
       "      <td>5.320979e-07</td>\n",
       "      <td>5.333662e-07</td>\n",
       "    </tr>\n",
       "    <tr>\n",
       "      <th>126773</th>\n",
       "      <td>5.320979e-07</td>\n",
       "      <td>5.333662e-07</td>\n",
       "    </tr>\n",
       "    <tr>\n",
       "      <th>249396</th>\n",
       "      <td>5.320979e-07</td>\n",
       "      <td>5.333662e-07</td>\n",
       "    </tr>\n",
       "    <tr>\n",
       "      <th>21054</th>\n",
       "      <td>5.320979e-07</td>\n",
       "      <td>5.333662e-07</td>\n",
       "    </tr>\n",
       "    <tr>\n",
       "      <th>0</th>\n",
       "      <td>5.320979e-07</td>\n",
       "      <td>5.333662e-07</td>\n",
       "    </tr>\n",
       "  </tbody>\n",
       "</table>\n",
       "<p>281903 rows × 2 columns</p>\n",
       "</div>"
      ],
      "text/plain": [
       "        Power Method Prob  Gauss Seidel Prob\n",
       "89072        1.127596e-02       1.130284e-02\n",
       "226410       9.265573e-03       9.287656e-03\n",
       "241453       8.277506e-03       8.297236e-03\n",
       "262859       3.015929e-03       3.023117e-03\n",
       "134831       2.994130e-03       3.001267e-03\n",
       "234703       2.566140e-03       2.572256e-03\n",
       "136820       2.447868e-03       2.453703e-03\n",
       "68888        2.425000e-03       2.430780e-03\n",
       "105606       2.391727e-03       2.397428e-03\n",
       "69357        2.358382e-03       2.364004e-03\n",
       "67755        2.295519e-03       2.300991e-03\n",
       "225871       2.262013e-03       2.267404e-03\n",
       "186749       2.227123e-03       2.232432e-03\n",
       "251795       2.141434e-03       2.146538e-03\n",
       "95162        2.141434e-03       2.146538e-03\n",
       "272441       2.141434e-03       2.146538e-03\n",
       "119478       2.031398e-03       2.036239e-03\n",
       "231362       2.002917e-03       2.007691e-03\n",
       "55787        1.952384e-03       1.957037e-03\n",
       "167294       1.911934e-03       1.916491e-03\n",
       "179644       1.806128e-03       1.810432e-03\n",
       "38341        1.734527e-03       1.738661e-03\n",
       "117151       1.400270e-03       1.403607e-03\n",
       "198089       1.347167e-03       1.350378e-03\n",
       "60209        1.306306e-03       1.309419e-03\n",
       "235495       1.293603e-03       1.296686e-03\n",
       "132694       1.281959e-03       1.285014e-03\n",
       "181700       1.239007e-03       1.241960e-03\n",
       "247240       1.212518e-03       1.215408e-03\n",
       "259454       1.212518e-03       1.215408e-03\n",
       "...                   ...                ...\n",
       "249389       5.320979e-07       5.333662e-07\n",
       "126722       5.320979e-07       5.333662e-07\n",
       "21033        5.320979e-07       5.333662e-07\n",
       "126726       5.320979e-07       5.333662e-07\n",
       "249468       5.320979e-07       5.333662e-07\n",
       "101005       5.320979e-07       5.333662e-07\n",
       "190106       5.320979e-07       5.333662e-07\n",
       "249453       5.320979e-07       5.333662e-07\n",
       "21025        5.320979e-07       5.333662e-07\n",
       "82644        5.320979e-07       5.333662e-07\n",
       "249446       5.320979e-07       5.333662e-07\n",
       "190124       5.320979e-07       5.333662e-07\n",
       "154868       5.320979e-07       5.333662e-07\n",
       "126753       5.320979e-07       5.333662e-07\n",
       "249432       5.320979e-07       5.333662e-07\n",
       "190130       5.320979e-07       5.333662e-07\n",
       "21055        5.320979e-07       5.333662e-07\n",
       "82651        5.320979e-07       5.333662e-07\n",
       "100982       5.320979e-07       5.333662e-07\n",
       "249418       5.320979e-07       5.333662e-07\n",
       "59630        5.320979e-07       5.333662e-07\n",
       "126764       5.320979e-07       5.333662e-07\n",
       "154860       5.320979e-07       5.333662e-07\n",
       "154858       5.320979e-07       5.333662e-07\n",
       "21048        5.320979e-07       5.333662e-07\n",
       "126767       5.320979e-07       5.333662e-07\n",
       "126773       5.320979e-07       5.333662e-07\n",
       "249396       5.320979e-07       5.333662e-07\n",
       "21054        5.320979e-07       5.333662e-07\n",
       "0            5.320979e-07       5.333662e-07\n",
       "\n",
       "[281903 rows x 2 columns]"
      ]
     },
     "execution_count": 15,
     "metadata": {},
     "output_type": "execute_result"
    }
   ],
   "source": [
    "import pandas as pd\n",
    "df = pd.DataFrame({'Power Method Prob':x_power[:,0],'Gauss Seidel Prob':x_gauss[:,0]})\n",
    "df=df.sort_values(by=['Power Method Prob'], ascending = False)\n",
    "df"
   ]
  },
  {
   "cell_type": "markdown",
   "metadata": {},
   "source": [
    "#### Παρατηρούμε ότι τα αποτελέσματα είναι ίδια για τις 2 μεθόδους με μικρές αποκλίσεις στις πιθανότητες. Ωστόσο ο χρόνος εκτέλεσης της Gauss Siedel είναι σχεδόν διπλάσιος από την Power Method. "
   ]
  },
  {
   "cell_type": "markdown",
   "metadata": {},
   "source": [
    " "
   ]
  },
  {
   "cell_type": "markdown",
   "metadata": {},
   "source": [
    "### b) Repeat above methods with a=0.99"
   ]
  },
  {
   "cell_type": "code",
   "execution_count": 16,
   "metadata": {},
   "outputs": [],
   "source": [
    "start1 = time.time()\n",
    "x_power_b, power_iter_b  = power_method(A , 0.99, 10**-8, 2000 )\n",
    "end1 = time.time()\n",
    "runtime_power_b = end1-start1"
   ]
  },
  {
   "cell_type": "code",
   "execution_count": 17,
   "metadata": {},
   "outputs": [
    {
     "data": {
      "text/plain": [
       "array([[3.54731947e-08],\n",
       "       [1.02639271e-04],\n",
       "       [1.28503451e-07],\n",
       "       ...,\n",
       "       [3.57564081e-08],\n",
       "       [4.03580480e-07],\n",
       "       [1.85020355e-07]])"
      ]
     },
     "execution_count": 17,
     "metadata": {},
     "output_type": "execute_result"
    }
   ],
   "source": [
    "x_power_b"
   ]
  },
  {
   "cell_type": "code",
   "execution_count": 18,
   "metadata": {},
   "outputs": [
    {
     "data": {
      "text/plain": [
       "22.07921028137207"
      ]
     },
     "execution_count": 18,
     "metadata": {},
     "output_type": "execute_result"
    }
   ],
   "source": [
    "runtime_power_b"
   ]
  },
  {
   "cell_type": "code",
   "execution_count": 19,
   "metadata": {},
   "outputs": [
    {
     "data": {
      "text/plain": [
       "1140"
      ]
     },
     "execution_count": 19,
     "metadata": {},
     "output_type": "execute_result"
    }
   ],
   "source": [
    "power_iter_b"
   ]
  },
  {
   "cell_type": "code",
   "execution_count": 20,
   "metadata": {},
   "outputs": [
    {
     "name": "stderr",
     "output_type": "stream",
     "text": [
      "C:\\Users\\ralli\\Anaconda3\\envs\\practical-data-science\\lib\\site-packages\\scipy\\sparse\\linalg\\dsolve\\linsolve.py:295: SparseEfficiencyWarning: splu requires CSC matrix format\n",
      "  warn('splu requires CSC matrix format', SparseEfficiencyWarning)\n"
     ]
    }
   ],
   "source": [
    "start1 = time.time()\n",
    "x_gauss_b, gauss_iter_b=gauss_seidel(A , 0.99, 10**-8, 2000)\n",
    "end1 = time.time()\n",
    "runtime_gauss_b = end1 - start1"
   ]
  },
  {
   "cell_type": "code",
   "execution_count": 21,
   "metadata": {},
   "outputs": [
    {
     "data": {
      "text/plain": [
       "37.51128840446472"
      ]
     },
     "execution_count": 21,
     "metadata": {},
     "output_type": "execute_result"
    }
   ],
   "source": [
    "runtime_gauss_b"
   ]
  },
  {
   "cell_type": "code",
   "execution_count": 22,
   "metadata": {},
   "outputs": [
    {
     "data": {
      "text/plain": [
       "814"
      ]
     },
     "execution_count": 22,
     "metadata": {},
     "output_type": "execute_result"
    }
   ],
   "source": [
    "gauss_iter_b"
   ]
  },
  {
   "cell_type": "code",
   "execution_count": 23,
   "metadata": {},
   "outputs": [
    {
     "data": {
      "text/html": [
       "<div>\n",
       "<style scoped>\n",
       "    .dataframe tbody tr th:only-of-type {\n",
       "        vertical-align: middle;\n",
       "    }\n",
       "\n",
       "    .dataframe tbody tr th {\n",
       "        vertical-align: top;\n",
       "    }\n",
       "\n",
       "    .dataframe thead th {\n",
       "        text-align: right;\n",
       "    }\n",
       "</style>\n",
       "<table border=\"1\" class=\"dataframe\">\n",
       "  <thead>\n",
       "    <tr style=\"text-align: right;\">\n",
       "      <th></th>\n",
       "      <th>Power Method Prob</th>\n",
       "      <th>Gauss Seidel Prob</th>\n",
       "    </tr>\n",
       "  </thead>\n",
       "  <tbody>\n",
       "    <tr>\n",
       "      <th>89072</th>\n",
       "      <td>9.020728e-03</td>\n",
       "      <td>9.186779e-03</td>\n",
       "    </tr>\n",
       "    <tr>\n",
       "      <th>281771</th>\n",
       "      <td>8.947687e-03</td>\n",
       "      <td>9.112392e-03</td>\n",
       "    </tr>\n",
       "    <tr>\n",
       "      <th>174664</th>\n",
       "      <td>7.549560e-03</td>\n",
       "      <td>7.688528e-03</td>\n",
       "    </tr>\n",
       "    <tr>\n",
       "      <th>226410</th>\n",
       "      <td>4.432867e-03</td>\n",
       "      <td>4.514466e-03</td>\n",
       "    </tr>\n",
       "    <tr>\n",
       "      <th>179644</th>\n",
       "      <td>3.999107e-03</td>\n",
       "      <td>4.072721e-03</td>\n",
       "    </tr>\n",
       "    <tr>\n",
       "      <th>271408</th>\n",
       "      <td>3.802341e-03</td>\n",
       "      <td>3.872332e-03</td>\n",
       "    </tr>\n",
       "    <tr>\n",
       "      <th>262859</th>\n",
       "      <td>3.422333e-03</td>\n",
       "      <td>3.485331e-03</td>\n",
       "    </tr>\n",
       "    <tr>\n",
       "      <th>136820</th>\n",
       "      <td>2.769847e-03</td>\n",
       "      <td>2.820834e-03</td>\n",
       "    </tr>\n",
       "    <tr>\n",
       "      <th>68888</th>\n",
       "      <td>2.739781e-03</td>\n",
       "      <td>2.790214e-03</td>\n",
       "    </tr>\n",
       "    <tr>\n",
       "      <th>77987</th>\n",
       "      <td>2.627871e-03</td>\n",
       "      <td>2.676245e-03</td>\n",
       "    </tr>\n",
       "    <tr>\n",
       "      <th>116529</th>\n",
       "      <td>2.601628e-03</td>\n",
       "      <td>2.649519e-03</td>\n",
       "    </tr>\n",
       "    <tr>\n",
       "      <th>95162</th>\n",
       "      <td>2.377327e-03</td>\n",
       "      <td>2.421088e-03</td>\n",
       "    </tr>\n",
       "    <tr>\n",
       "      <th>272441</th>\n",
       "      <td>2.377327e-03</td>\n",
       "      <td>2.421088e-03</td>\n",
       "    </tr>\n",
       "    <tr>\n",
       "      <th>251795</th>\n",
       "      <td>2.377327e-03</td>\n",
       "      <td>2.421088e-03</td>\n",
       "    </tr>\n",
       "    <tr>\n",
       "      <th>65579</th>\n",
       "      <td>2.273980e-03</td>\n",
       "      <td>2.315838e-03</td>\n",
       "    </tr>\n",
       "    <tr>\n",
       "      <th>119478</th>\n",
       "      <td>2.106699e-03</td>\n",
       "      <td>2.145479e-03</td>\n",
       "    </tr>\n",
       "    <tr>\n",
       "      <th>241453</th>\n",
       "      <td>2.076246e-03</td>\n",
       "      <td>2.114465e-03</td>\n",
       "    </tr>\n",
       "    <tr>\n",
       "      <th>245764</th>\n",
       "      <td>2.018480e-03</td>\n",
       "      <td>2.055636e-03</td>\n",
       "    </tr>\n",
       "    <tr>\n",
       "      <th>58047</th>\n",
       "      <td>2.002793e-03</td>\n",
       "      <td>2.039661e-03</td>\n",
       "    </tr>\n",
       "    <tr>\n",
       "      <th>14784</th>\n",
       "      <td>1.851421e-03</td>\n",
       "      <td>1.885501e-03</td>\n",
       "    </tr>\n",
       "    <tr>\n",
       "      <th>77083</th>\n",
       "      <td>1.790740e-03</td>\n",
       "      <td>1.823703e-03</td>\n",
       "    </tr>\n",
       "    <tr>\n",
       "      <th>117151</th>\n",
       "      <td>1.610664e-03</td>\n",
       "      <td>1.640313e-03</td>\n",
       "    </tr>\n",
       "    <tr>\n",
       "      <th>152336</th>\n",
       "      <td>1.531261e-03</td>\n",
       "      <td>1.559448e-03</td>\n",
       "    </tr>\n",
       "    <tr>\n",
       "      <th>181700</th>\n",
       "      <td>1.506107e-03</td>\n",
       "      <td>1.533831e-03</td>\n",
       "    </tr>\n",
       "    <tr>\n",
       "      <th>235495</th>\n",
       "      <td>1.470643e-03</td>\n",
       "      <td>1.497715e-03</td>\n",
       "    </tr>\n",
       "    <tr>\n",
       "      <th>259454</th>\n",
       "      <td>1.468889e-03</td>\n",
       "      <td>1.495927e-03</td>\n",
       "    </tr>\n",
       "    <tr>\n",
       "      <th>247240</th>\n",
       "      <td>1.468889e-03</td>\n",
       "      <td>1.495927e-03</td>\n",
       "    </tr>\n",
       "    <tr>\n",
       "      <th>62477</th>\n",
       "      <td>1.466579e-03</td>\n",
       "      <td>1.493575e-03</td>\n",
       "    </tr>\n",
       "    <tr>\n",
       "      <th>120707</th>\n",
       "      <td>1.466579e-03</td>\n",
       "      <td>1.493575e-03</td>\n",
       "    </tr>\n",
       "    <tr>\n",
       "      <th>183003</th>\n",
       "      <td>1.464137e-03</td>\n",
       "      <td>1.491089e-03</td>\n",
       "    </tr>\n",
       "    <tr>\n",
       "      <th>...</th>\n",
       "      <td>...</td>\n",
       "      <td>...</td>\n",
       "    </tr>\n",
       "    <tr>\n",
       "      <th>64890</th>\n",
       "      <td>3.547319e-08</td>\n",
       "      <td>3.612618e-08</td>\n",
       "    </tr>\n",
       "    <tr>\n",
       "      <th>64879</th>\n",
       "      <td>3.547319e-08</td>\n",
       "      <td>3.612618e-08</td>\n",
       "    </tr>\n",
       "    <tr>\n",
       "      <th>202889</th>\n",
       "      <td>3.547319e-08</td>\n",
       "      <td>3.612618e-08</td>\n",
       "    </tr>\n",
       "    <tr>\n",
       "      <th>202895</th>\n",
       "      <td>3.547319e-08</td>\n",
       "      <td>3.612618e-08</td>\n",
       "    </tr>\n",
       "    <tr>\n",
       "      <th>64867</th>\n",
       "      <td>3.547319e-08</td>\n",
       "      <td>3.612618e-08</td>\n",
       "    </tr>\n",
       "    <tr>\n",
       "      <th>64862</th>\n",
       "      <td>3.547319e-08</td>\n",
       "      <td>3.612618e-08</td>\n",
       "    </tr>\n",
       "    <tr>\n",
       "      <th>202793</th>\n",
       "      <td>3.547319e-08</td>\n",
       "      <td>3.612618e-08</td>\n",
       "    </tr>\n",
       "    <tr>\n",
       "      <th>264089</th>\n",
       "      <td>3.547319e-08</td>\n",
       "      <td>3.612618e-08</td>\n",
       "    </tr>\n",
       "    <tr>\n",
       "      <th>202643</th>\n",
       "      <td>3.547319e-08</td>\n",
       "      <td>3.612618e-08</td>\n",
       "    </tr>\n",
       "    <tr>\n",
       "      <th>202775</th>\n",
       "      <td>3.547319e-08</td>\n",
       "      <td>3.612618e-08</td>\n",
       "    </tr>\n",
       "    <tr>\n",
       "      <th>65094</th>\n",
       "      <td>3.547319e-08</td>\n",
       "      <td>3.612618e-08</td>\n",
       "    </tr>\n",
       "    <tr>\n",
       "      <th>202664</th>\n",
       "      <td>3.547319e-08</td>\n",
       "      <td>3.612618e-08</td>\n",
       "    </tr>\n",
       "    <tr>\n",
       "      <th>65071</th>\n",
       "      <td>3.547319e-08</td>\n",
       "      <td>3.612618e-08</td>\n",
       "    </tr>\n",
       "    <tr>\n",
       "      <th>202675</th>\n",
       "      <td>3.547319e-08</td>\n",
       "      <td>3.612618e-08</td>\n",
       "    </tr>\n",
       "    <tr>\n",
       "      <th>65057</th>\n",
       "      <td>3.547319e-08</td>\n",
       "      <td>3.612618e-08</td>\n",
       "    </tr>\n",
       "    <tr>\n",
       "      <th>202690</th>\n",
       "      <td>3.547319e-08</td>\n",
       "      <td>3.612618e-08</td>\n",
       "    </tr>\n",
       "    <tr>\n",
       "      <th>65054</th>\n",
       "      <td>3.547319e-08</td>\n",
       "      <td>3.612618e-08</td>\n",
       "    </tr>\n",
       "    <tr>\n",
       "      <th>65042</th>\n",
       "      <td>3.547319e-08</td>\n",
       "      <td>3.612618e-08</td>\n",
       "    </tr>\n",
       "    <tr>\n",
       "      <th>202714</th>\n",
       "      <td>3.547319e-08</td>\n",
       "      <td>3.612618e-08</td>\n",
       "    </tr>\n",
       "    <tr>\n",
       "      <th>202720</th>\n",
       "      <td>3.547319e-08</td>\n",
       "      <td>3.612618e-08</td>\n",
       "    </tr>\n",
       "    <tr>\n",
       "      <th>65009</th>\n",
       "      <td>3.547319e-08</td>\n",
       "      <td>3.612618e-08</td>\n",
       "    </tr>\n",
       "    <tr>\n",
       "      <th>202734</th>\n",
       "      <td>3.547319e-08</td>\n",
       "      <td>3.612618e-08</td>\n",
       "    </tr>\n",
       "    <tr>\n",
       "      <th>65007</th>\n",
       "      <td>3.547319e-08</td>\n",
       "      <td>3.612618e-08</td>\n",
       "    </tr>\n",
       "    <tr>\n",
       "      <th>264102</th>\n",
       "      <td>3.547319e-08</td>\n",
       "      <td>3.612618e-08</td>\n",
       "    </tr>\n",
       "    <tr>\n",
       "      <th>202749</th>\n",
       "      <td>3.547319e-08</td>\n",
       "      <td>3.612618e-08</td>\n",
       "    </tr>\n",
       "    <tr>\n",
       "      <th>64995</th>\n",
       "      <td>3.547319e-08</td>\n",
       "      <td>3.612618e-08</td>\n",
       "    </tr>\n",
       "    <tr>\n",
       "      <th>64978</th>\n",
       "      <td>3.547319e-08</td>\n",
       "      <td>3.612618e-08</td>\n",
       "    </tr>\n",
       "    <tr>\n",
       "      <th>202770</th>\n",
       "      <td>3.547319e-08</td>\n",
       "      <td>3.612618e-08</td>\n",
       "    </tr>\n",
       "    <tr>\n",
       "      <th>202773</th>\n",
       "      <td>3.547319e-08</td>\n",
       "      <td>3.612618e-08</td>\n",
       "    </tr>\n",
       "    <tr>\n",
       "      <th>0</th>\n",
       "      <td>3.547319e-08</td>\n",
       "      <td>3.612618e-08</td>\n",
       "    </tr>\n",
       "  </tbody>\n",
       "</table>\n",
       "<p>281903 rows × 2 columns</p>\n",
       "</div>"
      ],
      "text/plain": [
       "        Power Method Prob  Gauss Seidel Prob\n",
       "89072        9.020728e-03       9.186779e-03\n",
       "281771       8.947687e-03       9.112392e-03\n",
       "174664       7.549560e-03       7.688528e-03\n",
       "226410       4.432867e-03       4.514466e-03\n",
       "179644       3.999107e-03       4.072721e-03\n",
       "271408       3.802341e-03       3.872332e-03\n",
       "262859       3.422333e-03       3.485331e-03\n",
       "136820       2.769847e-03       2.820834e-03\n",
       "68888        2.739781e-03       2.790214e-03\n",
       "77987        2.627871e-03       2.676245e-03\n",
       "116529       2.601628e-03       2.649519e-03\n",
       "95162        2.377327e-03       2.421088e-03\n",
       "272441       2.377327e-03       2.421088e-03\n",
       "251795       2.377327e-03       2.421088e-03\n",
       "65579        2.273980e-03       2.315838e-03\n",
       "119478       2.106699e-03       2.145479e-03\n",
       "241453       2.076246e-03       2.114465e-03\n",
       "245764       2.018480e-03       2.055636e-03\n",
       "58047        2.002793e-03       2.039661e-03\n",
       "14784        1.851421e-03       1.885501e-03\n",
       "77083        1.790740e-03       1.823703e-03\n",
       "117151       1.610664e-03       1.640313e-03\n",
       "152336       1.531261e-03       1.559448e-03\n",
       "181700       1.506107e-03       1.533831e-03\n",
       "235495       1.470643e-03       1.497715e-03\n",
       "259454       1.468889e-03       1.495927e-03\n",
       "247240       1.468889e-03       1.495927e-03\n",
       "62477        1.466579e-03       1.493575e-03\n",
       "120707       1.466579e-03       1.493575e-03\n",
       "183003       1.464137e-03       1.491089e-03\n",
       "...                   ...                ...\n",
       "64890        3.547319e-08       3.612618e-08\n",
       "64879        3.547319e-08       3.612618e-08\n",
       "202889       3.547319e-08       3.612618e-08\n",
       "202895       3.547319e-08       3.612618e-08\n",
       "64867        3.547319e-08       3.612618e-08\n",
       "64862        3.547319e-08       3.612618e-08\n",
       "202793       3.547319e-08       3.612618e-08\n",
       "264089       3.547319e-08       3.612618e-08\n",
       "202643       3.547319e-08       3.612618e-08\n",
       "202775       3.547319e-08       3.612618e-08\n",
       "65094        3.547319e-08       3.612618e-08\n",
       "202664       3.547319e-08       3.612618e-08\n",
       "65071        3.547319e-08       3.612618e-08\n",
       "202675       3.547319e-08       3.612618e-08\n",
       "65057        3.547319e-08       3.612618e-08\n",
       "202690       3.547319e-08       3.612618e-08\n",
       "65054        3.547319e-08       3.612618e-08\n",
       "65042        3.547319e-08       3.612618e-08\n",
       "202714       3.547319e-08       3.612618e-08\n",
       "202720       3.547319e-08       3.612618e-08\n",
       "65009        3.547319e-08       3.612618e-08\n",
       "202734       3.547319e-08       3.612618e-08\n",
       "65007        3.547319e-08       3.612618e-08\n",
       "264102       3.547319e-08       3.612618e-08\n",
       "202749       3.547319e-08       3.612618e-08\n",
       "64995        3.547319e-08       3.612618e-08\n",
       "64978        3.547319e-08       3.612618e-08\n",
       "202770       3.547319e-08       3.612618e-08\n",
       "202773       3.547319e-08       3.612618e-08\n",
       "0            3.547319e-08       3.612618e-08\n",
       "\n",
       "[281903 rows x 2 columns]"
      ]
     },
     "execution_count": 23,
     "metadata": {},
     "output_type": "execute_result"
    }
   ],
   "source": [
    "import pandas as pd\n",
    "df_b = pd.DataFrame({'Power Method Prob':x_power_b[:,0],'Gauss Seidel Prob':x_gauss_b[:,0]})\n",
    "df_b=df_b.sort_values(by=['Power Method Prob'], ascending = False)\n",
    "df_b"
   ]
  },
  {
   "cell_type": "code",
   "execution_count": 24,
   "metadata": {},
   "outputs": [
    {
     "data": {
      "text/plain": [
       "array([ True, False, False, False, False, False, False, False, False,\n",
       "       False, False, False, False,  True, False, False, False, False,\n",
       "       False, False, False, False, False, False, False, False, False,\n",
       "       False, False, False, False, False, False, False, False, False,\n",
       "       False, False, False, False, False, False, False, False, False,\n",
       "       False, False, False, False, False])"
      ]
     },
     "execution_count": 24,
     "metadata": {},
     "output_type": "execute_result"
    }
   ],
   "source": [
    "df_b.index[:50] == df.index[:50] "
   ]
  },
  {
   "cell_type": "markdown",
   "metadata": {},
   "source": [
    "#### Παρατηρούμε ότι το ranking των πρώτων 50 κόμβων άλλαξε για 48 από τους 50 κόμβους. Επίσης όπως αναμενόταν ο χρόνος εκτέλεσης των δυο μεθόδων σχεδόν δεκαπλάσιαστηκε.\n",
    "#### Η συγκεκριμένη συμπεριφορά ήταν αναμενόμενη και επιβεβαιώνεται στην παράγραφο 6.1 Changing α του paper Deeper Inside PageRank.\n",
    "##### The PageRank vector derived from α = .99 can be vastly different from that obtained using α = .85. Perhaps it gives a “truer” PageRanking."
   ]
  },
  {
   "cell_type": "markdown",
   "metadata": {},
   "source": [
    " "
   ]
  },
  {
   "cell_type": "markdown",
   "metadata": {},
   "source": [
    "## c)   When we use the power method do all the components of π converge at the same speed to their limits? If not which of the converge faster: those that correspond to important nodes or to non important ? Do you observe the same behavior when you and π through the solution of the linear system?"
   ]
  },
  {
   "cell_type": "markdown",
   "metadata": {},
   "source": [
    " "
   ]
  },
  {
   "cell_type": "markdown",
   "metadata": {},
   "source": [
    "#### Σύμφωνα με το paper [69] Sepandar D. Kamvar, Taher H. Haveliwala, and Gene H. Golub. Adaptive methods for the computation of PageRank. Technical Report 2003-26, Stanford University, 2003. http://infolab.stanford.edu/~taherh/papers/adaptive.pdf"
   ]
  },
  {
   "cell_type": "markdown",
   "metadata": {},
   "source": [
    "#####  The convergence rates of the PageRank values of individual pages during application of the Power Method is nonuniform. That is, many pages converge quickly, with a few pages taking much longer to converge. Furthermore, the pages that converge slowly are generally those pages with high PageRank."
   ]
  },
  {
   "cell_type": "markdown",
   "metadata": {},
   "source": [
    "##### Το PageRank Xi μιας σελίδας i συγκλίνει όταν: |Χi(k+1) - Xi(k)| / |Xi(k)| < 10^-3"
   ]
  },
  {
   "cell_type": "markdown",
   "metadata": {},
   "source": [
    "#### Προστέθηκε στις δυο μεθόδους o παραπάνω έλεγχος. Συγκεκριμένα επιστρέφω την επανάληψη τη στιγμή που η παραπάνω συνθήκη ικανοποιείται για τις 10 μεγαλύτερες τιμές και για τις 10 μικρότερες."
   ]
  },
  {
   "cell_type": "code",
   "execution_count": 25,
   "metadata": {},
   "outputs": [],
   "source": [
    "def power_method_2(A , a = 0.85 , r = 10**-8, max_iter = 200):\n",
    "    (n,d)=A.shape \n",
    "    zero_rows = A.sum(axis=1)==0\n",
    "    index = np.argwhere(zero_rows)\n",
    "    a_v = np.zeros(n)\n",
    "    a_v[index[:,0]] = 1\n",
    "    a_v = a_v.reshape(n,1)  \n",
    "    \n",
    "    vT = np.ones(d) / n            #initialiaze v\n",
    "    \n",
    "    x = np.ones(d) /  n \n",
    "    \n",
    "#     iterations = np.log10(r)/np.log10(a)   # pagerank pdf page 8-9 Rate of Convergence\n",
    "    \n",
    "#     for i in range(0,int(round(iterations))):\n",
    "    limitd = 10**-3\n",
    "    limita = 10**-3\n",
    "    for i in range(max_iter):  \n",
    "        \n",
    "        x_new = a * x * A + (a * x * a_v.T + (1 - a)) * vT\n",
    "        \n",
    "        x_new_sort_desc = -np.sort(-x_new.ravel())\n",
    "        x_sort_desc     = -np.sort(-x.ravel())\n",
    "        x_new_sort_asc  =  np.sort( x_new.ravel())\n",
    "        x_sort_asc      =  np.sort( x.ravel())        \n",
    "        \n",
    "        converge_desc = np.mean(np.abs(x_new_sort_desc[:10] - x_sort_desc[:10]) / np.abs(x_sort_desc[:10]))\n",
    "        \n",
    "        converge_asc = np.mean(np.abs(x_new_sort_asc[:10] - x_sort_asc[:10]) / np.abs(x_sort_asc[:10]))\n",
    "        \n",
    "        \n",
    "        if converge_desc < limitd: \n",
    "            print ('Iterations for important:'+ str(i+1) ) # +1 γιατί η πρώτη επανάληψη είναι η μηδέν\n",
    "            limitd = -1000\n",
    "        if converge_asc < limita: \n",
    "            print ('Iterations for non important:'+ str(i+1) )\n",
    "            limita = -1000    \n",
    "        \n",
    "        \n",
    "        error = np.linalg.norm(x-x_new)\n",
    "        x = x_new\n",
    "        iters = i\n",
    "        if error < r:\n",
    "            x_new = x_new.reshape(n,1) \n",
    "            return x_new, iters\n",
    "        \n",
    "    x_new = x_new.reshape(n,1)       \n",
    "    return x_new, iters"
   ]
  },
  {
   "cell_type": "code",
   "execution_count": 26,
   "metadata": {},
   "outputs": [
    {
     "name": "stdout",
     "output_type": "stream",
     "text": [
      "Iterations for non important:2\n",
      "Iterations for important:16\n"
     ]
    }
   ],
   "source": [
    "x_power_c, power_iter_c  = power_method_2(A , 0.85, 10**-8, 2000 )"
   ]
  },
  {
   "cell_type": "code",
   "execution_count": 27,
   "metadata": {},
   "outputs": [],
   "source": [
    "#https://docs.scipy.org/doc/scipy-0.14.0/reference/generated/scipy.sparse.linalg.SuperLU.html\n",
    "from scipy.sparse import csc_matrix, linalg as sla\n",
    "def gauss_seidel_2(A, a = 0.85 , r = 10**-8, max_iter = 200):\n",
    "    (n,m) = A.shape\n",
    "    I = sparse.identity(n)\n",
    "    \n",
    "    A_temp = (I - a * A).T\n",
    "\n",
    "    L = tril(A_temp, 0)\n",
    "    U = triu(A_temp, 1)\n",
    "    \n",
    "    lu = sla.splu(L) \n",
    "    \n",
    "    b =  np.ones(m) / n \n",
    "    x =  np.ones(m) /  n\n",
    "    \n",
    "#   iterations = np.log10(r)/np.log10(a)    \n",
    "#   for i in range(0,int(round(iterations))): \n",
    "    limitd = 10**-3\n",
    "    limita = 10**-3\n",
    "    for i in range(max_iter): \n",
    "\n",
    "        x_new = lu.solve(b - U*x)\n",
    "        \n",
    "        x_new_sort_desc = -np.sort(-x_new.ravel())\n",
    "        x_sort_desc     = -np.sort(-x.ravel())\n",
    "        x_new_sort_asc  =  np.sort( x_new.ravel())\n",
    "        x_sort_asc      =  np.sort( x.ravel())        \n",
    "        \n",
    "        converge_desc = np.mean(np.abs(x_new_sort_desc[:10] - x_sort_desc[:10]) / np.abs(x_sort_desc[:10]))\n",
    "        \n",
    "        converge_asc = np.mean(np.abs(x_new_sort_asc[:10] - x_sort_asc[:10]) / np.abs(x_sort_asc[:10]))\n",
    "        \n",
    "        \n",
    "        if converge_desc < limitd: \n",
    "            print ('Iterations for important:'+ str(i+1) ) # +1 γιατί η πρώτη επανάληψη είναι η μηδέν\n",
    "            limitd = -1000\n",
    "        if converge_asc < limita: \n",
    "            print ('Iterations for non important:'+ str(i+1) )\n",
    "            limita = -1000    \n",
    "        \n",
    "        \n",
    "\n",
    "        error = np.linalg.norm(x-x_new)\n",
    "        \n",
    "        x = x_new    \n",
    "        iters = i\n",
    "        if error < r:\n",
    "            x_new = x_new.reshape(n,1) \n",
    "            return x_new / np.sum(x_new), iters\n",
    "        \n",
    "    return x_new/np.sum(x_new), iters\n"
   ]
  },
  {
   "cell_type": "code",
   "execution_count": 28,
   "metadata": {},
   "outputs": [
    {
     "name": "stderr",
     "output_type": "stream",
     "text": [
      "C:\\Users\\ralli\\Anaconda3\\envs\\practical-data-science\\lib\\site-packages\\scipy\\sparse\\linalg\\dsolve\\linsolve.py:295: SparseEfficiencyWarning: splu requires CSC matrix format\n",
      "  warn('splu requires CSC matrix format', SparseEfficiencyWarning)\n"
     ]
    },
    {
     "name": "stdout",
     "output_type": "stream",
     "text": [
      "Iterations for non important:1\n",
      "Iterations for important:18\n"
     ]
    }
   ],
   "source": [
    "x_gauss_c, gauss_iter_c  = gauss_seidel_2(A , 0.85, 10**-8, 2000 )"
   ]
  },
  {
   "cell_type": "markdown",
   "metadata": {},
   "source": [
    "#### Επιβεβαιώνουμε λοιπόν ότι και στις δύο μεθόδους, οι σελίδες με μεγάλο PageRank χρειάζονται περισσότερες επαναλήψεις για να συγκλίνουν από τις λιγότερο σημαντικές σελίδες"
   ]
  }
 ],
 "metadata": {
  "kernelspec": {
   "display_name": "Python 3",
   "language": "python",
   "name": "python3"
  },
  "language_info": {
   "codemirror_mode": {
    "name": "ipython",
    "version": 3
   },
   "file_extension": ".py",
   "mimetype": "text/x-python",
   "name": "python",
   "nbconvert_exporter": "python",
   "pygments_lexer": "ipython3",
   "version": "3.7.0"
  }
 },
 "nbformat": 4,
 "nbformat_minor": 2
}
